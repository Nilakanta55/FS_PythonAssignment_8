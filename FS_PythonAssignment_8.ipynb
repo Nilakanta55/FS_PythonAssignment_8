{
 "cells": [
  {
   "cell_type": "markdown",
   "id": "a0a86b76",
   "metadata": {},
   "source": [
    "### 1. Is the Python Standard Library included with PyInputPlus?"
   ]
  },
  {
   "cell_type": "markdown",
   "id": "b5e99578",
   "metadata": {},
   "source": [
    "PyInputPlus is a Python module used for taking inputs with additional validation features. PyInputPlus will keep asking the user for text until they enter valid input.\n",
    "\n",
    "pip install PyInputPlus\n",
    "\n",
    "Here are the functions used to take various types of input :\n",
    "\n",
    "inputNum() : Accepts a numeric value. It takes additional parameters ‘min’, ‘max’, ‘greaterThan’ and ‘lessThan’ for bounds. Returns an int or float.\n",
    "\n",
    "inputStr() : Accepts a string value. It provides features such as ‘blockRegexes’, ‘timeout’, ‘limit’ etc.\n",
    "\n",
    "inputInt() : Accepts an integer value. This also takes additional parameters ‘min’, ‘max’, ‘greaterThan’ and ‘lessThan’  for bounds. Returns an int.\n",
    "\n",
    "inputFloat() : Accepts a floating-point numeric value. Also takes additional ‘min’, ‘max’, ‘greaterThan’ and ‘lessThan’  parameters. Returns a float.\n",
    "\n",
    "inputBool() : Accepts a boolean value. Input can be any case-insensitive form of ‘true’/’false’ and ‘T’/’F’. Returns a boolean value.\n",
    "\n",
    "inputChoice() : Takes a list of strings and accepts one of them as input.\n",
    "\n",
    "inputMenu() : Similar to inputChoice(), but the choices are presented as items in a menu. Menu items can be marked with letters or numbers, using the ‘lettered’ and ‘numbered’ parameters.\n",
    "\n",
    "inputDate()  : Accepts a date in a strftime format. We need to pass this format to the ‘formats’ parameter. Returns a datetime.date object.\n",
    "\n",
    "inputTime() : Accepts a time in a strftime format. Returns a datetime.time object.\n",
    "\n",
    "inputDatetime() :  Accepts a date and time in a strftime format. Returns a datetime.datetime object.\n",
    "\n",
    "inputYesNo() : Accepts ‘yes’/’no’ or ‘y’/’n’ in case-insensitive form. Returns ‘yes’ or ‘no’."
   ]
  },
  {
   "cell_type": "code",
   "execution_count": null,
   "id": "46947460",
   "metadata": {},
   "outputs": [],
   "source": []
  },
  {
   "cell_type": "markdown",
   "id": "48a473c0",
   "metadata": {},
   "source": [
    "### 2. Why is PyInputPlus commonly imported with import pyinputplus as pypi?"
   ]
  },
  {
   "cell_type": "markdown",
   "id": "b851f339",
   "metadata": {},
   "source": [
    "You can import the module with import pyinputplus as pyip so that you can enter a shorter name when calling the module's functions. PyInputPlus has functions for entering a variety of input, including strings, numbers, dates, yes/no, True/False, emails, and files."
   ]
  },
  {
   "cell_type": "code",
   "execution_count": null,
   "id": "ad8771b3",
   "metadata": {},
   "outputs": [],
   "source": []
  },
  {
   "cell_type": "markdown",
   "id": "e46029a6",
   "metadata": {},
   "source": [
    "### 3. How do you distinguish between inputInt() and inputFloat()?"
   ]
  },
  {
   "cell_type": "markdown",
   "id": "d7ab8994",
   "metadata": {},
   "source": [
    "inputInt() : Accepts an integer value. This also takes additional parameters ‘min’, ‘max’, ‘greaterThan’ and ‘lessThan’  for bounds. Returns an int.\n",
    "\n",
    "inputFloat() : Accepts a floating-point numeric value. Also takes additional ‘min’, ‘max’, ‘greaterThan’ and ‘lessThan’  parameters. Returns a float."
   ]
  },
  {
   "cell_type": "code",
   "execution_count": null,
   "id": "9181c4db",
   "metadata": {},
   "outputs": [],
   "source": []
  },
  {
   "cell_type": "markdown",
   "id": "8c7e6ba6",
   "metadata": {},
   "source": [
    "### 4. Using PyInputPlus, how do you ensure that the user enters a whole number between 0 and 99?"
   ]
  },
  {
   "cell_type": "markdown",
   "id": "01d7153b",
   "metadata": {},
   "source": [
    "I ensure it by using input(int())"
   ]
  },
  {
   "cell_type": "code",
   "execution_count": null,
   "id": "d1e0152c",
   "metadata": {},
   "outputs": [],
   "source": []
  },
  {
   "cell_type": "markdown",
   "id": "d1b6575e",
   "metadata": {},
   "source": [
    "### 5. What is transferred to the keyword arguments allowRegexes and blockRegexes?"
   ]
  },
  {
   "cell_type": "markdown",
   "id": "8bb7663f",
   "metadata": {},
   "source": [
    "You can also use regular expressions to specify whether an input is allowed or not. The allowRegexes and blockRegexes keyword arguments take a list of regular expression strings to determine what the PyInputPlus function will accept or reject as valid input. For example, enter the following code into the interactive shell so that inputNum() will accept Roman numerals in addition to the usual numbers:"
   ]
  },
  {
   "cell_type": "code",
   "execution_count": null,
   "id": "1c64d409",
   "metadata": {},
   "outputs": [],
   "source": [
    ">>> import pyinputplus as pyip\n",
    ">>> response = pyip.inputNum(allowRegexes=[r'(I|V|X|L|C|D|M)+', r'zero'])\n",
    "XLII\n",
    ">>> response\n",
    "'XLII'\n",
    ">>> response = pyip.inputNum(allowRegexes=[r'(i|v|x|l|c|d|m)+', r'zero'])\n",
    "xlii\n",
    ">>> response\n",
    "'xlii'"
   ]
  },
  {
   "cell_type": "markdown",
   "id": "8541d52d",
   "metadata": {},
   "source": [
    "Of course, this regex affects only what letters the inputNum() function will accept from the user; the function will still accept Roman numerals with invalid ordering such as 'XVX' or 'MILLI' because the r'(I|V|X|L|C|D|M)+' regular expression accepts those strings.\n",
    "You can also specify a list of regular expression strings that a PyInputPlus function won’t accept by using the blockRegexes keyword argument. Enter the following into the interactive shell so that inputNum() won’t accept even numbers:"
   ]
  },
  {
   "cell_type": "code",
   "execution_count": null,
   "id": "fa4e1258",
   "metadata": {},
   "outputs": [],
   "source": [
    ">>> import pyinputplus as pyip\n",
    ">>> response = pyip.inputNum(blockRegexes=[r'[02468]$'])\n",
    "42\n",
    "This response is invalid.\n",
    "44\n",
    "This response is invalid.\n",
    "43\n",
    ">>> response\n",
    "43"
   ]
  },
  {
   "cell_type": "markdown",
   "id": "8635aebc",
   "metadata": {},
   "source": [
    "If you specify both an allowRegexes and blockRegexes argument, the allow list overrides the block list. For example, enter the following into the interactive shell, which allows 'caterpillar' and 'category' but blocks anything else that has the word 'cat' in it:\n"
   ]
  },
  {
   "cell_type": "markdown",
   "id": "80853e1d",
   "metadata": {},
   "source": [
    ">>> import pyinputplus as pyip\n",
    ">>> response = pyip.inputStr(allowRegexes=[r'caterpillar', 'category'],\n",
    "blockRegexes=[r'cat'])\n",
    "cat\n",
    "This response is invalid.\n",
    "catastrophe\n",
    "This response is invalid.\n",
    "category\n",
    ">>> response\n",
    "'category'\n",
    "\n",
    "The PyInputPlus module’s functions can save you from writing tedious input validation code yourself. But there’s more to the PyInputPlus module than what has been detailed here."
   ]
  },
  {
   "cell_type": "code",
   "execution_count": null,
   "id": "97efc2e0",
   "metadata": {},
   "outputs": [],
   "source": []
  },
  {
   "cell_type": "markdown",
   "id": "f202257a",
   "metadata": {},
   "source": [
    "### 6. If a blank input is entered three times, what does inputStr(limit=3) do?"
   ]
  },
  {
   "cell_type": "markdown",
   "id": "aa25bd12",
   "metadata": {},
   "source": [
    "inputStr() raises a TimeoutException exception. If the user answers incorrectly more than 3 times, it raises a RetryLimitException exception."
   ]
  },
  {
   "cell_type": "code",
   "execution_count": null,
   "id": "3b717e63",
   "metadata": {},
   "outputs": [],
   "source": []
  },
  {
   "cell_type": "markdown",
   "id": "91a9c7ce",
   "metadata": {},
   "source": [
    "### 7. If blank input is entered three times, what does inputStr(limit=3, default='hello') do?"
   ]
  },
  {
   "cell_type": "markdown",
   "id": "22ca6115",
   "metadata": {},
   "source": [
    "It returns the value hello"
   ]
  },
  {
   "cell_type": "code",
   "execution_count": null,
   "id": "686e1011",
   "metadata": {},
   "outputs": [],
   "source": []
  }
 ],
 "metadata": {
  "kernelspec": {
   "display_name": "Python 3",
   "language": "python",
   "name": "python3"
  },
  "language_info": {
   "codemirror_mode": {
    "name": "ipython",
    "version": 3
   },
   "file_extension": ".py",
   "mimetype": "text/x-python",
   "name": "python",
   "nbconvert_exporter": "python",
   "pygments_lexer": "ipython3",
   "version": "3.8.8"
  }
 },
 "nbformat": 4,
 "nbformat_minor": 5
}
